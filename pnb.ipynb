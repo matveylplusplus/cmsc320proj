{
 "cells": [
  {
   "cell_type": "markdown",
   "metadata": {},
   "source": [
    "# Incredible. Observe greatness"
   ]
  },
  {
   "cell_type": "markdown",
   "metadata": {},
   "source": [
    "## The Beginning"
   ]
  },
  {
   "cell_type": "code",
   "execution_count": null,
   "metadata": {},
   "outputs": [],
   "source": [
    "import numpy as np\n",
    "%matplotlib inline\n",
    "import matplotlib.pyplot as plt\n",
    "from sklearn.model_selection import train_test_split\n",
    "from sklearn.preprocessing import PolynomialFeatures\n",
    "from sklearn.linear_model import Lasso\n",
    "from sklearn.metrics import mean_squared_error, r2_score\n",
    "\n",
    "# Step 1: Generate a trigonometric dataset\n",
    "np.random.seed(42)  # For reproducibility\n",
    "\n",
    "# Generate 100 data points\n",
    "X = np.linspace(0, 2 * np.pi, 100).reshape(-1, 1)\n",
    "y = np.sin(X).ravel() + 0.1 * np.random.randn(100)\n",
    "\n",
    "# Plot the dataset\n",
    "plt.scatter(X, y, color='blue', label='Data points')\n",
    "plt.xlabel('X')\n",
    "plt.ylabel('y')\n",
    "plt.title('Trigonometric dataset')\n",
    "plt.legend()\n",
    "plt.show()\n",
    "\n",
    "# Step 2: Split the dataset into training and testing sets\n",
    "X_train, X_test, y_train, y_test = train_test_split(X, y, test_size=0.2, random_state=42)\n",
    "\n",
    "# Step 3: Transform the features using polynomial features\n",
    "degree = 20\n",
    "poly_features = PolynomialFeatures(degree=degree)\n",
    "X_train_poly = poly_features.fit_transform(X_train)\n",
    "X_test_poly = poly_features.transform(X_test)\n",
    "\n",
    "# Step 4: Fit the Lasso regression model on polynomial features\n",
    "lasso = Lasso(alpha=0.1, max_iter=10000)  # You can tune the alpha parameter\n",
    "lasso.fit(X_train_poly, y_train)\n",
    "\n",
    "# Step 5: Make predictions and evaluate the model\n",
    "y_train_pred = lasso.predict(X_train_poly)\n",
    "y_test_pred = lasso.predict(X_test_poly)\n",
    "\n",
    "# Calculate mean squared error and R^2 score\n",
    "mse_train = mean_squared_error(y_train, y_train_pred)\n",
    "mse_test = mean_squared_error(y_test, y_test_pred)\n",
    "r2_train = r2_score(y_train, y_train_pred)\n",
    "r2_test = r2_score(y_test, y_test_pred)\n",
    "\n",
    "print(f'Training MSE: {mse_train:.3f}')\n",
    "print(f'Testing MSE: {mse_test:.3f}')\n",
    "print(f'Training R^2: {r2_train:.3f}')\n",
    "print(f'Testing R^2: {r2_test:.3f}')\n",
    "\n",
    "# Step 6: Plot the results\n",
    "X_poly = poly_features.transform(X)\n",
    "y_poly_pred = lasso.predict(X_poly)\n",
    "\n",
    "plt.scatter(X, y, color='blue', label='Data points')\n",
    "plt.plot(X, y_poly_pred, color='red', label=f'Polynomial Lasso regression (degree {degree})')\n",
    "plt.xlabel('X')\n",
    "plt.ylabel('y')\n",
    "plt.title(f'Polynomial Lasso Regression on Trigonometric Dataset (degree {degree})')\n",
    "plt.legend()\n",
    "plt.show()"
   ]
  }
 ],
 "metadata": {
  "kernelspec": {
   "display_name": "datasci",
   "language": "python",
   "name": "python3"
  },
  "language_info": {
   "codemirror_mode": {
    "name": "ipython",
    "version": 3
   },
   "file_extension": ".py",
   "mimetype": "text/x-python",
   "name": "python",
   "nbconvert_exporter": "python",
   "pygments_lexer": "ipython3",
   "version": "3.9.19"
  }
 },
 "nbformat": 4,
 "nbformat_minor": 2
}
