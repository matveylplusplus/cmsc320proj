{
 "cells": [
  {
   "cell_type": "markdown",
   "metadata": {},
   "source": [
    "# TITLE\n",
    "## Summer 2024 Data Science Project\n",
    "\n",
    "**By Matvey Lyapin**"
   ]
  },
  {
   "cell_type": "markdown",
   "metadata": {},
   "source": [
    "### Introduction"
   ]
  },
  {
   "cell_type": "markdown",
   "metadata": {},
   "source": [
    "### Data Curation"
   ]
  },
  {
   "cell_type": "code",
   "execution_count": 20,
   "metadata": {},
   "outputs": [],
   "source": [
    "## Import important stuff.\n",
    "import numpy as np\n",
    "import pandas as pd\n",
    "import matplotlib.pyplot as plt\n",
    "from matplotlib.ticker import MaxNLocator # for nice-lookin plots\n",
    "import scipy.stats as statsim\n",
    "from sklearn.linear_model import LinearRegression\n",
    "from sklearn.metrics import mean_squared_error, r2_score"
   ]
  },
  {
   "cell_type": "code",
   "execution_count": 5,
   "metadata": {},
   "outputs": [
    {
     "name": "stdout",
     "output_type": "stream",
     "text": [
      "     Country name  year  Life Ladder  Log GDP per capita  Social support  \\\n",
      "0     Afghanistan  2008     3.723590            7.350416        0.450662   \n",
      "1     Afghanistan  2009     4.401778            7.508646        0.552308   \n",
      "2     Afghanistan  2010     4.758381            7.613900        0.539075   \n",
      "3     Afghanistan  2011     3.831719            7.581259        0.521104   \n",
      "4     Afghanistan  2012     3.782938            7.660506        0.520637   \n",
      "...           ...   ...          ...                 ...             ...   \n",
      "2358     Zimbabwe  2019     2.693523            7.697755        0.759162   \n",
      "2359     Zimbabwe  2020     3.159802            7.596050        0.717243   \n",
      "2360     Zimbabwe  2021     3.154578            7.656878        0.685151   \n",
      "2361     Zimbabwe  2022     3.296220            7.670073        0.666172   \n",
      "2362     Zimbabwe  2023     3.572386            7.678590        0.693817   \n",
      "\n",
      "      Healthy life expectancy at birth  Freedom to make life choices  \\\n",
      "0                            50.500000                      0.718114   \n",
      "1                            50.799999                      0.678896   \n",
      "2                            51.099998                      0.600127   \n",
      "3                            51.400002                      0.495901   \n",
      "4                            51.700001                      0.530935   \n",
      "...                                ...                           ...   \n",
      "2358                         53.099998                      0.631908   \n",
      "2359                         53.575001                      0.643303   \n",
      "2360                         54.049999                      0.667636   \n",
      "2361                         54.525002                      0.651987   \n",
      "2362                         55.000000                      0.734613   \n",
      "\n",
      "      Generosity  Perceptions of corruption  Positive affect  Negative affect  \n",
      "0       0.164055                   0.881686         0.414297         0.258195  \n",
      "1       0.187297                   0.850035         0.481421         0.237092  \n",
      "2       0.117861                   0.706766         0.516907         0.275324  \n",
      "3       0.160098                   0.731109         0.479835         0.267175  \n",
      "4       0.234157                   0.775620         0.613513         0.267919  \n",
      "...          ...                        ...              ...              ...  \n",
      "2358   -0.050874                   0.830652         0.658434         0.235354  \n",
      "2359    0.002848                   0.788523         0.660658         0.345736  \n",
      "2360   -0.079007                   0.756945         0.609917         0.241682  \n",
      "2361   -0.072935                   0.752632         0.640609         0.191350  \n",
      "2362   -0.068837                   0.757494         0.609752         0.178953  \n",
      "\n",
      "[2363 rows x 11 columns]\n"
     ]
    }
   ],
   "source": [
    "xlsx = pd.ExcelFile(\"datasets/whr/src/WHR_Tab2.1.xls\")\n",
    "whole_whr = pd.read_excel(xlsx, \"Sheet1\")\n",
    "print(whole_whr)"
   ]
  },
  {
   "cell_type": "code",
   "execution_count": 6,
   "metadata": {},
   "outputs": [
    {
     "name": "stdout",
     "output_type": "stream",
     "text": [
      "     Country name  year  Life Ladder\n",
      "0     Afghanistan  2008     3.723590\n",
      "1     Afghanistan  2009     4.401778\n",
      "2     Afghanistan  2010     4.758381\n",
      "3     Afghanistan  2011     3.831719\n",
      "4     Afghanistan  2012     3.782938\n",
      "...           ...   ...          ...\n",
      "2358     Zimbabwe  2019     2.693523\n",
      "2359     Zimbabwe  2020     3.159802\n",
      "2360     Zimbabwe  2021     3.154578\n",
      "2361     Zimbabwe  2022     3.296220\n",
      "2362     Zimbabwe  2023     3.572386\n",
      "\n",
      "[2363 rows x 3 columns]\n"
     ]
    }
   ],
   "source": [
    "whr = whole_whr[['Country name', 'year', 'Life Ladder']]\n",
    "print(whr)"
   ]
  },
  {
   "cell_type": "markdown",
   "metadata": {},
   "source": [
    "### Exploratory Data Analysis"
   ]
  },
  {
   "cell_type": "markdown",
   "metadata": {},
   "source": [
    "### Primary Analysis"
   ]
  },
  {
   "cell_type": "code",
   "execution_count": 29,
   "metadata": {},
   "outputs": [],
   "source": [
    "class HapModel:\n",
    "    def __init__(self, country):\n",
    "        country_whr = whr[whr['Country name'] == country]\n",
    "\n",
    "        self.name = country\n",
    "        self.X = country_whr['year'].to_numpy().reshape(-1, 1)\n",
    "        self.y = country_whr['Life Ladder'].to_numpy().reshape(-1, 1)\n",
    "        self.model = LinearRegression().fit(self.X, self.y)\n",
    "        self.y_pred = self.model.predict(self.X)\n",
    "\n",
    "    def plot(self):\n",
    "        fig, axes = plt.subplots()\n",
    "\n",
    "        axes.scatter(self.X, self.y, color='blue', label='Data')\n",
    "        axes.plot(self.X, self.y_pred, color='red', label='Linear Regression')\n",
    "        axes.xaxis.set_major_locator(MaxNLocator(integer=True))\n",
    "        axes.set_title(f'{self.name}\\'s Life Ladder Over Time')\n",
    "        axes.set_ylabel('Life Ladder Score')\n",
    "        axes.set_xlabel('Year')\n",
    "        axes.legend()\n",
    "\n",
    "        plt.show()\n",
    "        print(f'{self.name} regression performance metrics:')\n",
    "        print(f' - MSE: {mean_squared_error(self.y, self.y_pred)}')\n",
    "        print(f' - R2: {r2_score(self.y, self.y_pred)}')\n",
    "    \n",
    "    def predict_happiness(self, year):\n",
    "        return self.model.predict(year)"
   ]
  },
  {
   "cell_type": "code",
   "execution_count": 28,
   "metadata": {},
   "outputs": [
    {
     "data": {
      "image/png": "[encoded data removed]",
      "text/plain": [
       "<Figure size 640x480 with 1 Axes>"
      ]
     },
     "metadata": {},
     "output_type": "display_data"
    },
    {
     "name": "stdout",
     "output_type": "stream",
     "text": [
      "United States Regression Performance Metrics:\n",
      " - MSE: 0.01636995950222191\n",
      " - R2: 0.6763296311460378\n"
     ]
    }
   ],
   "source": [
    "h1 = HapModel('United States')\n",
    "h1.plot()"
   ]
  },
  {
   "cell_type": "markdown",
   "metadata": {},
   "source": [
    "### Visualization"
   ]
  },
  {
   "cell_type": "markdown",
   "metadata": {},
   "source": [
    "### Insights and Conclusions"
   ]
  }
 ],
 "metadata": {
  "kernelspec": {
   "display_name": "datasci",
   "language": "python",
   "name": "python3"
  },
  "language_info": {
   "codemirror_mode": {
    "name": "ipython",
    "version": 3
   },
   "file_extension": ".py",
   "mimetype": "text/x-python",
   "name": "python",
   "nbconvert_exporter": "python",
   "pygments_lexer": "ipython3",
   "version": "3.9.19"
  }
 },
 "nbformat": 4,
 "nbformat_minor": 2
}
